{
 "cells": [
  {
   "cell_type": "markdown",
   "id": "2eabb82b",
   "metadata": {},
   "source": [
    "[Bellman-Ford](https://www.youtube.com/watch?v=ozsuci5pIso) алгоритм "
   ]
  },
  {
   "cell_type": "code",
   "execution_count": 7,
   "id": "dd4ce8db",
   "metadata": {},
   "outputs": [],
   "source": [
    "graph={}\n",
    "graph[0]=[(1,6),(2,7)]\n",
    "graph[1]=[(2,8),(3,5),(4,-4)]\n",
    "graph[2]=[(3,-3),(3,9)]\n",
    "graph[3]=[(1,-2)]\n",
    "graph[4]=[(0,2),(3,7)]"
   ]
  },
  {
   "cell_type": "code",
   "execution_count": 15,
   "id": "0997276a",
   "metadata": {},
   "outputs": [],
   "source": [
    "from copy import deepcopy\n",
    "\n",
    "def BellmanFord(G:dict ,start:int):\n",
    "    dist = {i: float('+inf') for i in range(len(G))}\n",
    "    dist[start] = 0\n",
    "    for i in range(len(G) - 1):\n",
    "        for u,tmp in G.items():\n",
    "            for v in tmp:\n",
    "                if dist[v[0]] > dist[u]+v[1]:\n",
    "                    dist[v[0]] = dist[u] + v[1]\n",
    "                    \n",
    "    #check for cycle\n",
    "    temp = deepcopy(dist)\n",
    "    for u,tmp in G.items():\n",
    "            for v in tmp:\n",
    "                if temp[v[0]] > temp[u]+v[1]:\n",
    "                    temp[v[0]] = temp[u] + v[1]\n",
    "                    \n",
    "    if set(dist.items()) != set(temp.items()):\n",
    "        print(\"Есть отрицательный цикл\")\n",
    "    else:\n",
    "        print(\"Нет отрицательного цикла\")\n",
    "        \n",
    "    for v,w in dist.items():\n",
    "        print('Расстояние от',start,'до',v,'=',w)\n",
    "            "
   ]
  },
  {
   "cell_type": "code",
   "execution_count": 16,
   "id": "3af02b61",
   "metadata": {},
   "outputs": [
    {
     "name": "stdout",
     "output_type": "stream",
     "text": [
      "Нет отрицательного цикла\n",
      "Расстояние от 0 до 0 = 0\n",
      "Расстояние от 0 до 1 = 2\n",
      "Расстояние от 0 до 2 = 7\n",
      "Расстояние от 0 до 3 = 4\n",
      "Расстояние от 0 до 4 = -2\n"
     ]
    }
   ],
   "source": [
    "BellmanFord(graph,0)"
   ]
  }
 ],
 "metadata": {
  "kernelspec": {
   "display_name": "Python 3 (ipykernel)",
   "language": "python",
   "name": "python3"
  },
  "language_info": {
   "codemirror_mode": {
    "name": "ipython",
    "version": 3
   },
   "file_extension": ".py",
   "mimetype": "text/x-python",
   "name": "python",
   "nbconvert_exporter": "python",
   "pygments_lexer": "ipython3",
   "version": "3.12.3"
  }
 },
 "nbformat": 4,
 "nbformat_minor": 5
}
