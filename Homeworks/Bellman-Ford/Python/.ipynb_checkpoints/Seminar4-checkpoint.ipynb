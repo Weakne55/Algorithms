{
 "cells": [
  {
   "cell_type": "code",
   "execution_count": null,
   "id": "f4b7f9ae-0256-4900-963e-51801e05592e",
   "metadata": {},
   "outputs": [],
   "source": []
  },
  {
   "cell_type": "code",
   "execution_count": 10,
   "id": "8a7bc350-9e9d-4c0a-aa0b-796b2a1393e5",
   "metadata": {},
   "outputs": [],
   "source": [
    "class Node():\n",
    "    def __init__(self, data):\n",
    "        self.data = data\n",
    "        self.left = None\n",
    "        self.right = None\n",
    "\n",
    "\n",
    "class BinarySearchTree():\n",
    "    def __init__(self):\n",
    "        self.root = None\n",
    "        self.count = 0\n",
    "        \n",
    "    def tree_print(self):\n",
    "        self.__tree_print(self.root)\n",
    "\n",
    "    def tree_walk_horisontal(self):\n",
    "        if self.root is not None:\n",
    "            self.__tree_walk_hor([self.root])\n",
    "        \n",
    "    def __tree_walk_hor(self, nodes: list):\n",
    "        new_list = []\n",
    "        if len(nodes) == 0:\n",
    "            return\n",
    "        for obj in nodes:\n",
    "            print(obj.data, end = \" \")\n",
    "            if obj.left is not None:\n",
    "                new_list.append(obj.left)\n",
    "            if obj.right is not None:\n",
    "                new_list.append(obj.right)\n",
    "        print()\n",
    "        self.__tree_walk_hor(new_list)\n",
    "        \n",
    "    def __tree_print(self, node):\n",
    "        if node is not None:\n",
    "            print(node.data)\n",
    "            print(\"left\", node.left.data if (node.left is not None) else None)\n",
    "            print(\"right\", node.right.data if (node.right is not None) else None)\n",
    "            print('-' * 100)\n",
    "            self.__tree_print(node.left)\n",
    "            self.__tree_print(node.right)\n",
    "\n",
    "    def __height(self, node):\n",
    "        self.count += 1\n",
    "        if node is None:\n",
    "            return 0\n",
    "        return max(self.__height(node.left), self.__height(node.right)) + 1\n",
    "    \n",
    "    def height(self):\n",
    "        if self.root is None:\n",
    "            return 0\n",
    "        return self.__height(self.root)\n",
    "\n",
    "    def bfs(self):\n",
    "        for i in range(self.height()):\n",
    "            self.level_print(self.root, i)\n",
    "            print()\n",
    "            \n",
    "    def level_print(self, node, level):\n",
    "        if node is None:\n",
    "            return\n",
    "        if level == 0:\n",
    "            print(node.data, end=' ')\n",
    "        self.level_print(node.left, level - 1)\n",
    "        self.level_print(node.right, level - 1)\n",
    "\n",
    "    def __delete(self, node, elem):\n",
    "        if node is not None:\n",
    "            if node.left is not None:\n",
    "                if elem == node.left.data:\n",
    "                    hll = self.__height(node.left.left)\n",
    "                    hlr = self.__height(node.left.right)\n",
    "                    if hll > hlr:\n",
    "                        node.left = self.smallRotate(node.left, 1)\n",
    "                        tmp = node.left.right\n",
    "                        node.left.right = node.left.right.right\n",
    "                        if node.left.right.left:\n",
    "                            node.left.right.left = tmp\n",
    "                            \n",
    "                    else:\n",
    "                        node.right = self.smallRotate(node.right, -1)\n",
    "                        tmp = node.right.left\n",
    "                        node.right.left = node.right.left.left\n",
    "                        if node.right.left:\n",
    "                            node.right.left.right = tmp\n",
    "            \n",
    "            if node.right is not None:\n",
    "                if elem == node.right.data:\n",
    "                    nodeSave = None\n",
    "                    if node.right.left is not None:\n",
    "                        if node.right.left.right is not None:\n",
    "                            nodeSave = node.right.left.right\n",
    "                        oldRight = node.right.right\n",
    "                        node.right = node.right.left\n",
    "                        node.right.right = oldRight\n",
    "                        \n",
    "                    \n",
    "            self.__delete(node.left, elem)\n",
    "            self.__delete(node.right, elem)\n",
    "\n",
    "    \n",
    "    def delete(self, elem):\n",
    "        if self.root is None:\n",
    "            return\n",
    "        self.__delete(self.root, elem)\n",
    "\n",
    "    def smallRotate(self, node, rotDir):\n",
    "        self.count += 1\n",
    "        if rotDir == 1: #rotation to the right\n",
    "            p = node\n",
    "            q = node.left\n",
    "            b = q.right\n",
    "            node = q\n",
    "            node.right = p\n",
    "            p.left = b\n",
    "        if rotDir == -1: #rotation to the left\n",
    "            q = node\n",
    "            p = node.right\n",
    "            b = p.left\n",
    "            node = p\n",
    "            node.left = q\n",
    "            q.right = b\n",
    "        return node\n",
    "\n",
    "    \n",
    "    def __balance(self, node):\n",
    "        self.count += 1\n",
    "        if node is not None:\n",
    "            node.left = self.__balance(node.left)\n",
    "            hl = self.__height(node.left)\n",
    "            hr = self.__height(node.right)\n",
    "            if (hl-hr) > 1:\n",
    "                hll = self.__height(node.left.left)\n",
    "                hlr = self.__height(node.left.right)\n",
    "                if hll < hlr:\n",
    "                    node.left = self.smallRotate(node.left, -1)\n",
    "                node = self.smallRotate(node, 1)\n",
    "            \n",
    "            node.right = self.__balance(node.right)\n",
    "            hl = self.__height(node.left)\n",
    "            hr = self.__height(node.right)\n",
    "            if (hr - hl) > 1:\n",
    "                hrl = self.__height(node.right.left)\n",
    "                hrr = self.__height(node.right.right)\n",
    "                if hrl > hrr:\n",
    "                    node.right = self.smallRotate(node.right, 1)\n",
    "                node = self.smallRotate(node, -1)\n",
    "        return node\n",
    "                \n",
    "    def balance(self):\n",
    "        self.count = 0\n",
    "        if self.root is not None:\n",
    "            self.root = self.__balance(self.root)\n",
    "        return self.count\n",
    "        \n",
    "    def add(self, data):\n",
    "        if self.root is None:\n",
    "            self.root = Node(data)\n",
    "        else:\n",
    "            node = self.root\n",
    "            while node is not None:\n",
    "                if data < node.data:\n",
    "                    if node.left is None:\n",
    "                        node.left = Node(data)\n",
    "                        break\n",
    "                    else:\n",
    "                        node = node.left\n",
    "                elif data > node.data:\n",
    "                    if node.right is None:\n",
    "                        node.right = Node(data)\n",
    "                        break\n",
    "                    else:\n",
    "                        node = node.right\n",
    "                else:\n",
    "                    break\n",
    "    "
   ]
  },
  {
   "cell_type": "code",
   "execution_count": 2,
   "id": "00b0648e-67cc-40a8-ad01-839fb4015041",
   "metadata": {},
   "outputs": [],
   "source": [
    "tree = BinarySearchTree()\n",
    "tree.tree_print()\n"
   ]
  },
  {
   "cell_type": "code",
   "execution_count": 3,
   "id": "f9f0bcfd-64fc-4670-bf33-2598223a8761",
   "metadata": {},
   "outputs": [
    {
     "name": "stdout",
     "output_type": "stream",
     "text": [
      "6\n",
      "left None\n",
      "right None\n",
      "----------------------------------------------------------------------------------------------------\n"
     ]
    }
   ],
   "source": [
    "tree.add(6)\n",
    "tree.tree_print()"
   ]
  },
  {
   "cell_type": "code",
   "execution_count": 4,
   "id": "2428f2e3-2044-404e-aa4a-80d0fd307731",
   "metadata": {},
   "outputs": [
    {
     "name": "stdout",
     "output_type": "stream",
     "text": [
      "6\n",
      "left 2\n",
      "right 20\n",
      "----------------------------------------------------------------------------------------------------\n",
      "2\n",
      "left None\n",
      "right 5\n",
      "----------------------------------------------------------------------------------------------------\n",
      "5\n",
      "left None\n",
      "right None\n",
      "----------------------------------------------------------------------------------------------------\n",
      "20\n",
      "left 8\n",
      "right 60\n",
      "----------------------------------------------------------------------------------------------------\n",
      "8\n",
      "left 7\n",
      "right None\n",
      "----------------------------------------------------------------------------------------------------\n",
      "7\n",
      "left None\n",
      "right None\n",
      "----------------------------------------------------------------------------------------------------\n",
      "60\n",
      "left 27\n",
      "right 96\n",
      "----------------------------------------------------------------------------------------------------\n",
      "27\n",
      "left 23\n",
      "right 53\n",
      "----------------------------------------------------------------------------------------------------\n",
      "23\n",
      "left None\n",
      "right None\n",
      "----------------------------------------------------------------------------------------------------\n",
      "53\n",
      "left 52\n",
      "right 54\n",
      "----------------------------------------------------------------------------------------------------\n",
      "52\n",
      "left None\n",
      "right None\n",
      "----------------------------------------------------------------------------------------------------\n",
      "54\n",
      "left None\n",
      "right 55\n",
      "----------------------------------------------------------------------------------------------------\n",
      "55\n",
      "left None\n",
      "right 56\n",
      "----------------------------------------------------------------------------------------------------\n",
      "56\n",
      "left None\n",
      "right None\n",
      "----------------------------------------------------------------------------------------------------\n",
      "96\n",
      "left 72\n",
      "right None\n",
      "----------------------------------------------------------------------------------------------------\n",
      "72\n",
      "left None\n",
      "right None\n",
      "----------------------------------------------------------------------------------------------------\n"
     ]
    }
   ],
   "source": [
    "import random\n",
    "tree.add(20)\n",
    "tree.add(60)\n",
    "tree.add(8)\n",
    "tree.add(7)\n",
    "tree.add(27)\n",
    "tree.add(96)\n",
    "tree.add(23)\n",
    "tree.add(53)\n",
    "tree.add(52)\n",
    "tree.add(54)\n",
    "tree.add(55)\n",
    "tree.add(56)\n",
    "tree.add(72)\n",
    "tree.add(2)\n",
    "tree.add(5)\n",
    "\n",
    "#for i in range(13):\n",
    "#    tree.add(random.randint(0,100))\n",
    "tree.tree_print()"
   ]
  },
  {
   "cell_type": "code",
   "execution_count": 13,
   "id": "439009d4-047a-4c39-ad81-36e10d63d6df",
   "metadata": {},
   "outputs": [
    {
     "name": "stdout",
     "output_type": "stream",
     "text": [
      "6 \n",
      "2 20 \n",
      "5 8 60 \n",
      "7 27 96 \n",
      "23 53 72 \n",
      "52 54 \n",
      "55 \n",
      "56 \n",
      "0.0003414154052734375\n"
     ]
    }
   ],
   "source": [
    "import time\n",
    "\n",
    "start = time.time()\n",
    "tree.tree_walk_horisontal()\n",
    "print(time.time()-start)"
   ]
  },
  {
   "cell_type": "code",
   "execution_count": 117,
   "id": "55b9fe34-2a0c-435b-9a80-c7bb756a5e1a",
   "metadata": {},
   "outputs": [
    {
     "data": {
      "text/plain": [
       "6"
      ]
     },
     "execution_count": 117,
     "metadata": {},
     "output_type": "execute_result"
    }
   ],
   "source": [
    "tree.height()"
   ]
  },
  {
   "cell_type": "code",
   "execution_count": 118,
   "id": "184e9fc9-3022-4cd0-b89d-f7eab1a3a86d",
   "metadata": {},
   "outputs": [
    {
     "name": "stdout",
     "output_type": "stream",
     "text": [
      "6 \n",
      "20 \n",
      "8 60 \n",
      "7 27 96 \n",
      "23 53 \n",
      "52 \n",
      "0.00035500526428222656\n"
     ]
    }
   ],
   "source": [
    "start = time.time()\n",
    "tree.bfs()\n",
    "print(time.time()-start)"
   ]
  },
  {
   "cell_type": "code",
   "execution_count": 119,
   "id": "5787e94b-9a20-48a6-8557-c88a8d1cb6ce",
   "metadata": {},
   "outputs": [],
   "source": [
    "tree.delete(20)"
   ]
  },
  {
   "cell_type": "code",
   "execution_count": 120,
   "id": "c56f2320-b585-42cb-a337-a7ea8a2c0093",
   "metadata": {},
   "outputs": [
    {
     "name": "stdout",
     "output_type": "stream",
     "text": [
      "6 \n",
      "8 \n",
      "7 60 \n",
      "27 96 \n",
      "23 53 \n",
      "52 \n"
     ]
    }
   ],
   "source": [
    "tree.tree_walk_horisontal()"
   ]
  },
  {
   "cell_type": "code",
   "execution_count": 11,
   "id": "f5b3eac9-e87c-45cf-835e-904f0236c5db",
   "metadata": {},
   "outputs": [
    {
     "name": "stdout",
     "output_type": "stream",
     "text": [
      "10\n",
      "left 8\n",
      "right 11\n",
      "----------------------------------------------------------------------------------------------------\n",
      "8\n",
      "left 7\n",
      "right 9\n",
      "----------------------------------------------------------------------------------------------------\n",
      "7\n",
      "left 5\n",
      "right None\n",
      "----------------------------------------------------------------------------------------------------\n",
      "5\n",
      "left None\n",
      "right None\n",
      "----------------------------------------------------------------------------------------------------\n",
      "9\n",
      "left None\n",
      "right None\n",
      "----------------------------------------------------------------------------------------------------\n",
      "11\n",
      "left None\n",
      "right None\n",
      "----------------------------------------------------------------------------------------------------\n"
     ]
    }
   ],
   "source": [
    "tree = BinarySearchTree()\n",
    "tree.add(10)\n",
    "tree.add(8)\n",
    "tree.add(9)\n",
    "tree.add(7)\n",
    "tree.add(11)\n",
    "tree.add(5)\n",
    "tree.tree_print()"
   ]
  },
  {
   "cell_type": "code",
   "execution_count": 12,
   "id": "9e68aa33-c9e7-49ca-b378-4eaba3b70a0c",
   "metadata": {},
   "outputs": [
    {
     "ename": "AttributeError",
     "evalue": "'NoneType' object has no attribute 'left'",
     "output_type": "error",
     "traceback": [
      "\u001b[0;31m---------------------------------------------------------------------------\u001b[0m",
      "\u001b[0;31mAttributeError\u001b[0m                            Traceback (most recent call last)",
      "Cell \u001b[0;32mIn[12], line 1\u001b[0m\n\u001b[0;32m----> 1\u001b[0m \u001b[43mtree\u001b[49m\u001b[38;5;241;43m.\u001b[39;49m\u001b[43mdelete\u001b[49m\u001b[43m(\u001b[49m\u001b[38;5;241;43m7\u001b[39;49m\u001b[43m)\u001b[49m\n",
      "Cell \u001b[0;32mIn[10], line 104\u001b[0m, in \u001b[0;36mBinarySearchTree.delete\u001b[0;34m(self, elem)\u001b[0m\n\u001b[1;32m    102\u001b[0m \u001b[38;5;28;01mif\u001b[39;00m \u001b[38;5;28mself\u001b[39m\u001b[38;5;241m.\u001b[39mroot \u001b[38;5;129;01mis\u001b[39;00m \u001b[38;5;28;01mNone\u001b[39;00m:\n\u001b[1;32m    103\u001b[0m     \u001b[38;5;28;01mreturn\u001b[39;00m\n\u001b[0;32m--> 104\u001b[0m \u001b[38;5;28;43mself\u001b[39;49m\u001b[38;5;241;43m.\u001b[39;49m\u001b[43m__delete\u001b[49m\u001b[43m(\u001b[49m\u001b[38;5;28;43mself\u001b[39;49m\u001b[38;5;241;43m.\u001b[39;49m\u001b[43mroot\u001b[49m\u001b[43m,\u001b[49m\u001b[43m \u001b[49m\u001b[43melem\u001b[49m\u001b[43m)\u001b[49m\n",
      "Cell \u001b[0;32mIn[10], line 97\u001b[0m, in \u001b[0;36mBinarySearchTree.__delete\u001b[0;34m(self, node, elem)\u001b[0m\n\u001b[1;32m     93\u001b[0m             node\u001b[38;5;241m.\u001b[39mright \u001b[38;5;241m=\u001b[39m node\u001b[38;5;241m.\u001b[39mright\u001b[38;5;241m.\u001b[39mleft\n\u001b[1;32m     94\u001b[0m             node\u001b[38;5;241m.\u001b[39mright\u001b[38;5;241m.\u001b[39mright \u001b[38;5;241m=\u001b[39m oldRight\n\u001b[0;32m---> 97\u001b[0m \u001b[38;5;28;43mself\u001b[39;49m\u001b[38;5;241;43m.\u001b[39;49m\u001b[43m__delete\u001b[49m\u001b[43m(\u001b[49m\u001b[43mnode\u001b[49m\u001b[38;5;241;43m.\u001b[39;49m\u001b[43mleft\u001b[49m\u001b[43m,\u001b[49m\u001b[43m \u001b[49m\u001b[43melem\u001b[49m\u001b[43m)\u001b[49m\n\u001b[1;32m     98\u001b[0m \u001b[38;5;28mself\u001b[39m\u001b[38;5;241m.\u001b[39m__delete(node\u001b[38;5;241m.\u001b[39mright, elem)\n",
      "Cell \u001b[0;32mIn[10], line 76\u001b[0m, in \u001b[0;36mBinarySearchTree.__delete\u001b[0;34m(self, node, elem)\u001b[0m\n\u001b[1;32m     74\u001b[0m     tmp \u001b[38;5;241m=\u001b[39m node\u001b[38;5;241m.\u001b[39mleft\u001b[38;5;241m.\u001b[39mright\n\u001b[1;32m     75\u001b[0m     node\u001b[38;5;241m.\u001b[39mleft\u001b[38;5;241m.\u001b[39mright \u001b[38;5;241m=\u001b[39m node\u001b[38;5;241m.\u001b[39mleft\u001b[38;5;241m.\u001b[39mright\u001b[38;5;241m.\u001b[39mright\n\u001b[0;32m---> 76\u001b[0m     \u001b[38;5;28;01mif\u001b[39;00m \u001b[43mnode\u001b[49m\u001b[38;5;241;43m.\u001b[39;49m\u001b[43mleft\u001b[49m\u001b[38;5;241;43m.\u001b[39;49m\u001b[43mright\u001b[49m\u001b[38;5;241;43m.\u001b[39;49m\u001b[43mleft\u001b[49m:\n\u001b[1;32m     77\u001b[0m         node\u001b[38;5;241m.\u001b[39mleft\u001b[38;5;241m.\u001b[39mright\u001b[38;5;241m.\u001b[39mleft \u001b[38;5;241m=\u001b[39m tmp\n\u001b[1;32m     79\u001b[0m \u001b[38;5;28;01melse\u001b[39;00m:\n",
      "\u001b[0;31mAttributeError\u001b[0m: 'NoneType' object has no attribute 'left'"
     ]
    }
   ],
   "source": [
    "tree.delete(7)"
   ]
  },
  {
   "cell_type": "code",
   "execution_count": 27,
   "id": "b8918236-5bea-4d13-a973-299c6e962f35",
   "metadata": {},
   "outputs": [],
   "source": [
    "tree.root = tree.smallRotate(tree.root, 1)"
   ]
  },
  {
   "cell_type": "code",
   "execution_count": 28,
   "id": "872ae95e-67ab-4750-b2a2-a32a123a8871",
   "metadata": {},
   "outputs": [
    {
     "name": "stdout",
     "output_type": "stream",
     "text": [
      "8\n",
      "left 7\n",
      "right 10\n",
      "----------------------------------------------------------------------------------------------------\n",
      "7\n",
      "left None\n",
      "right None\n",
      "----------------------------------------------------------------------------------------------------\n",
      "10\n",
      "left 9\n",
      "right 11\n",
      "----------------------------------------------------------------------------------------------------\n",
      "9\n",
      "left None\n",
      "right None\n",
      "----------------------------------------------------------------------------------------------------\n",
      "11\n",
      "left None\n",
      "right None\n",
      "----------------------------------------------------------------------------------------------------\n"
     ]
    }
   ],
   "source": [
    "tree.tree_print()"
   ]
  },
  {
   "cell_type": "code",
   "execution_count": 30,
   "id": "2129e0c2-3307-4767-8613-0fb502650bca",
   "metadata": {},
   "outputs": [
    {
     "name": "stdout",
     "output_type": "stream",
     "text": [
      "10\n",
      "left 8\n",
      "right 11\n",
      "----------------------------------------------------------------------------------------------------\n",
      "8\n",
      "left 7\n",
      "right 9\n",
      "----------------------------------------------------------------------------------------------------\n",
      "7\n",
      "left None\n",
      "right None\n",
      "----------------------------------------------------------------------------------------------------\n",
      "9\n",
      "left None\n",
      "right None\n",
      "----------------------------------------------------------------------------------------------------\n",
      "11\n",
      "left None\n",
      "right None\n",
      "----------------------------------------------------------------------------------------------------\n"
     ]
    }
   ],
   "source": [
    "tree.root = tree.smallRotate(tree.root, -1)\n",
    "tree.tree_print()"
   ]
  },
  {
   "cell_type": "code",
   "execution_count": 66,
   "id": "4c88b899-34ec-4b2f-ab0d-ac598528045a",
   "metadata": {},
   "outputs": [
    {
     "data": {
      "text/plain": [
       "370"
      ]
     },
     "execution_count": 66,
     "metadata": {},
     "output_type": "execute_result"
    }
   ],
   "source": [
    "tree.balance()"
   ]
  },
  {
   "cell_type": "code",
   "execution_count": 59,
   "id": "1810d2f6-e902-404f-9427-5d9fa1a07a45",
   "metadata": {},
   "outputs": [
    {
     "name": "stdout",
     "output_type": "stream",
     "text": [
      "53\n",
      "left 6\n",
      "right 60\n",
      "----------------------------------------------------------------------------------------------------\n",
      "6\n",
      "left 2\n",
      "right 20\n",
      "----------------------------------------------------------------------------------------------------\n",
      "2\n",
      "left None\n",
      "right 5\n",
      "----------------------------------------------------------------------------------------------------\n",
      "5\n",
      "left None\n",
      "right None\n",
      "----------------------------------------------------------------------------------------------------\n",
      "20\n",
      "left 8\n",
      "right 27\n",
      "----------------------------------------------------------------------------------------------------\n",
      "8\n",
      "left 7\n",
      "right None\n",
      "----------------------------------------------------------------------------------------------------\n",
      "7\n",
      "left None\n",
      "right None\n",
      "----------------------------------------------------------------------------------------------------\n",
      "27\n",
      "left 23\n",
      "right 52\n",
      "----------------------------------------------------------------------------------------------------\n",
      "23\n",
      "left None\n",
      "right None\n",
      "----------------------------------------------------------------------------------------------------\n",
      "52\n",
      "left None\n",
      "right None\n",
      "----------------------------------------------------------------------------------------------------\n",
      "60\n",
      "left 55\n",
      "right 96\n",
      "----------------------------------------------------------------------------------------------------\n",
      "55\n",
      "left 54\n",
      "right 56\n",
      "----------------------------------------------------------------------------------------------------\n",
      "54\n",
      "left None\n",
      "right None\n",
      "----------------------------------------------------------------------------------------------------\n",
      "56\n",
      "left None\n",
      "right None\n",
      "----------------------------------------------------------------------------------------------------\n",
      "96\n",
      "left 72\n",
      "right None\n",
      "----------------------------------------------------------------------------------------------------\n",
      "72\n",
      "left None\n",
      "right None\n",
      "----------------------------------------------------------------------------------------------------\n"
     ]
    }
   ],
   "source": [
    "tree.tree_print()"
   ]
  },
  {
   "cell_type": "code",
   "execution_count": 60,
   "id": "8be41299-b07a-403a-beff-98d5a7a5398d",
   "metadata": {},
   "outputs": [
    {
     "name": "stdout",
     "output_type": "stream",
     "text": [
      "5\n",
      "left 4\n",
      "right 6\n",
      "----------------------------------------------------------------------------------------------------\n",
      "4\n",
      "left 3\n",
      "right None\n",
      "----------------------------------------------------------------------------------------------------\n",
      "3\n",
      "left 2\n",
      "right None\n",
      "----------------------------------------------------------------------------------------------------\n",
      "2\n",
      "left None\n",
      "right None\n",
      "----------------------------------------------------------------------------------------------------\n",
      "6\n",
      "left None\n",
      "right 7\n",
      "----------------------------------------------------------------------------------------------------\n",
      "7\n",
      "left None\n",
      "right 8\n",
      "----------------------------------------------------------------------------------------------------\n",
      "8\n",
      "left None\n",
      "right 9\n",
      "----------------------------------------------------------------------------------------------------\n",
      "9\n",
      "left None\n",
      "right None\n",
      "----------------------------------------------------------------------------------------------------\n"
     ]
    }
   ],
   "source": [
    "tree = BinarySearchTree()\n",
    "tree.add(5)\n",
    "tree.add(4)\n",
    "tree.add(3)\n",
    "tree.add(2)\n",
    "tree.add(6)\n",
    "tree.add(7)\n",
    "tree.add(8)\n",
    "tree.add(9)\n",
    "tree.tree_print()"
   ]
  },
  {
   "cell_type": "code",
   "execution_count": 61,
   "id": "75fae0e6-ea4f-436a-85a8-b58021a5d9db",
   "metadata": {},
   "outputs": [
    {
     "name": "stdout",
     "output_type": "stream",
     "text": [
      "5\n",
      "left 3\n",
      "right 8\n",
      "----------------------------------------------------------------------------------------------------\n",
      "3\n",
      "left 2\n",
      "right 4\n",
      "----------------------------------------------------------------------------------------------------\n",
      "2\n",
      "left None\n",
      "right None\n",
      "----------------------------------------------------------------------------------------------------\n",
      "4\n",
      "left None\n",
      "right None\n",
      "----------------------------------------------------------------------------------------------------\n",
      "8\n",
      "left 6\n",
      "right 9\n",
      "----------------------------------------------------------------------------------------------------\n",
      "6\n",
      "left None\n",
      "right 7\n",
      "----------------------------------------------------------------------------------------------------\n",
      "7\n",
      "left None\n",
      "right None\n",
      "----------------------------------------------------------------------------------------------------\n",
      "9\n",
      "left None\n",
      "right None\n",
      "----------------------------------------------------------------------------------------------------\n"
     ]
    }
   ],
   "source": [
    "tree.balance()\n",
    "tree.tree_print()"
   ]
  },
  {
   "cell_type": "code",
   "execution_count": 68,
   "id": "c14c69bc-ba10-487b-b9cf-38915736ad39",
   "metadata": {},
   "outputs": [],
   "source": [
    "sizes = [10, 100, 300, 700, 1000]\n",
    "cs = []\n",
    "for size in sizes:\n",
    "    tree = BinarySearchTree()\n",
    "    for _ in range(size):\n",
    "        tree.add(random.randint(0, size*100))\n",
    "    cs.append(tree.balance())"
   ]
  },
  {
   "cell_type": "code",
   "execution_count": 69,
   "id": "4e85a368-c9b4-4bf2-bf2c-91482ca445f2",
   "metadata": {},
   "outputs": [
    {
     "data": {
      "text/plain": [
       "[<matplotlib.lines.Line2D at 0x7f1b21503520>]"
      ]
     },
     "execution_count": 69,
     "metadata": {},
     "output_type": "execute_result"
    },
    {
     "data": {
      "image/png": "[encoded data removed]",
      "text/plain": [
       "<Figure size 640x480 with 1 Axes>"
      ]
     },
     "metadata": {},
     "output_type": "display_data"
    }
   ],
   "source": [
    "from matplotlib import pyplot as plt\n",
    "\n",
    "plt.plot(sizes, cs)"
   ]
  },
  {
   "cell_type": "code",
   "execution_count": null,
   "id": "cecbb9bd-08ae-4fb4-a62f-8944dd5c8d8a",
   "metadata": {},
   "outputs": [],
   "source": [
    "#dark-red tree\n",
    "class Node():\n",
    "    def __init__(self, data):\n",
    "        self.data = data\n",
    "        self.color = 'r'\n",
    "        self.left = None\n",
    "        self.right = None\n",
    "    \n",
    "    def swap(self):\n",
    "        if self.color == 'r':\n",
    "            self.color = 'b'\n",
    "        else:\n",
    "            self.color = 'r'\n",
    "\n",
    "\n",
    "class RedBlackTree():\n",
    "    def __init__(self):\n",
    "        self.root = None\n",
    "\n",
    "    def depth(self, node):\n",
    "        if node is None:\n",
    "            return 0\n",
    "        else:\n",
    "            if node.color == 'b':\n",
    "                return max(self.depth(node.left), self.depth(node.right)) + 1\n",
    "            else:\n",
    "                return max(self.depth(node.left), self.depth(node.right))\n",
    "    \n",
    "    def add(self, data):\n",
    "        if self.root is None:\n",
    "            self.root = Node(data)\n",
    "            self.root.swap()\n",
    "        else:\n",
    "            cur_node = self.root\n",
    "            new_node = Node(data)\n",
    "            father = None\n",
    "            grand = None\n",
    "            uncle = None\n",
    "            while cur_node is not None:\n",
    "                if new_node.data < cur_node.data:\n",
    "                    grand = father\n",
    "                    father = cur_node\n",
    "                    cur_node = cur_node.left\n",
    "                elif new_node.data > cur_node.data:\n",
    "                    grand = father\n",
    "                    father = cur_node\n",
    "                    cur_node = cur_node.right\n",
    "                else:\n",
    "                    print('Equal data')\n",
    "                    break\n",
    "                    \n",
    "            if grand is not None and grand.left.data == father.data:\n",
    "                uncle = grand.right\n",
    "            elif grand is not None and grand.right.data == father.data:\n",
    "                uncle = grand.left\n",
    "                \n",
    "            if father.data > new_node.data:\n",
    "                father.left = new_node\n",
    "            elif father.data < new_node.data:\n",
    "                father.right = new_node\n",
    "            \n",
    "            if father.color == 'r':\n",
    "                if uncle.color == 'r' and grand.color == 'b':\n",
    "                    pass\n",
    "                elif uncle.color == 'b' and grand.color == 'b':\n",
    "                    if father == grand.right and new_node == father.right:\n",
    "                        pass\n",
    "                    elif father == grand.left and new_node == father.left:\n",
    "                        pass\n",
    "                elif\n",
    "                else:"
   ]
  }
 ],
 "metadata": {
  "kernelspec": {
   "display_name": "Python 3 (ipykernel)",
   "language": "python",
   "name": "python3"
  },
  "language_info": {
   "codemirror_mode": {
    "name": "ipython",
    "version": 3
   },
   "file_extension": ".py",
   "mimetype": "text/x-python",
   "name": "python",
   "nbconvert_exporter": "python",
   "pygments_lexer": "ipython3",
   "version": "3.12.3"
  }
 },
 "nbformat": 4,
 "nbformat_minor": 5
}
