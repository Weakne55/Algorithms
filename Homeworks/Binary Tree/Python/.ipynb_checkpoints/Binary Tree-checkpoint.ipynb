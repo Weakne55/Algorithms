{
 "cells": [
  {
   "cell_type": "markdown",
   "id": "5f92a1cb",
   "metadata": {},
   "source": [
    "[Лекция Хирьянова](https://www.youtube.com/watch?v=4m5QWJoP_Yo)"
   ]
  },
  {
   "cell_type": "code",
   "execution_count": 9,
   "id": "9090774a",
   "metadata": {},
   "outputs": [],
   "source": [
    "class Node():\n",
    "    def __init__(self, data):\n",
    "        self.data = data\n",
    "        self.left = None\n",
    "        self.right = None"
   ]
  },
  {
   "cell_type": "code",
   "execution_count": 65,
   "id": "384bfdef",
   "metadata": {},
   "outputs": [],
   "source": [
    "class BinarySearchTree():\n",
    "    def __init__(self):\n",
    "        self.root = None\n",
    "        self.count = 0\n",
    "        \n",
    "        \n",
    "    #Можно воспринимать себе такой обход как проход плоскостью параллельной y по дереву слева-направо\n",
    "    def inorder(self):\n",
    "        if self.root is not None:\n",
    "            self.__inorder(self.root.left)\n",
    "            print(self.root.data)\n",
    "            self.__inorder(self.root.right)\n",
    "            \n",
    "            \n",
    "    def __inorder(self, node):\n",
    "        if node is not None:\n",
    "            self.__inorder(node.left)\n",
    "            print(node.data)\n",
    "            self.__inorder(node.right)\n",
    "            \n",
    "            \n",
    "    def invert(self):\n",
    "        if self.root is None:\n",
    "            return None\n",
    "\n",
    "        self.root.left, self.root.right = self.root.right, self.root.left\n",
    "        \n",
    "        self.__invert(self.root.left)\n",
    "        self.__invert(self.root.right)\n",
    "    \n",
    "    \n",
    "    def __invert(self,node):\n",
    "        \n",
    "        if node is None:\n",
    "            return None\n",
    "\n",
    "        node.left, node.right = node.right, node.left\n",
    "        \n",
    "        self.__invert(node.left)\n",
    "        self.__invert(node.right)\n",
    "\n",
    "        return node\n",
    "    \n",
    "        \n",
    "\n",
    "        \n",
    "    def add(self, data):\n",
    "        if self.root is None:\n",
    "            self.root = Node(data)\n",
    "        else:\n",
    "            node = self.root\n",
    "            while node is not None:\n",
    "                if data < node.data:\n",
    "                    if node.left is None:\n",
    "                        node.left = Node(data)\n",
    "                        break\n",
    "                    else:\n",
    "                        node = node.left\n",
    "                elif data > node.data:\n",
    "                    if node.right is None:\n",
    "                        node.right = Node(data)\n",
    "                        break\n",
    "                    else:\n",
    "                        node = node.right\n",
    "                else:\n",
    "                    break;"
   ]
  },
  {
   "cell_type": "code",
   "execution_count": 66,
   "id": "b3724c1d",
   "metadata": {},
   "outputs": [],
   "source": [
    "tree=BinarySearchTree()\n",
    "tree.add(8)\n",
    "tree.add(3)\n",
    "tree.add(10)\n",
    "tree.add(1)\n",
    "tree.add(6)\n",
    "tree.add(14)\n",
    "tree.add(4)\n",
    "tree.add(7)\n",
    "tree.add(13)"
   ]
  },
  {
   "cell_type": "code",
   "execution_count": 67,
   "id": "c7f816e0",
   "metadata": {},
   "outputs": [
    {
     "name": "stdout",
     "output_type": "stream",
     "text": [
      "1\n",
      "3\n",
      "4\n",
      "6\n",
      "7\n",
      "8\n",
      "10\n",
      "13\n",
      "14\n"
     ]
    }
   ],
   "source": [
    "tree.inorder()"
   ]
  },
  {
   "cell_type": "code",
   "execution_count": 72,
   "id": "767eda0f",
   "metadata": {},
   "outputs": [
    {
     "name": "stdout",
     "output_type": "stream",
     "text": [
      "14\n",
      "13\n",
      "10\n",
      "8\n",
      "7\n",
      "6\n",
      "4\n",
      "3\n",
      "1\n"
     ]
    }
   ],
   "source": [
    "tree.invert()\n",
    "tree.inorder()"
   ]
  }
 ],
 "metadata": {
  "kernelspec": {
   "display_name": "Python 3 (ipykernel)",
   "language": "python",
   "name": "python3"
  },
  "language_info": {
   "codemirror_mode": {
    "name": "ipython",
    "version": 3
   },
   "file_extension": ".py",
   "mimetype": "text/x-python",
   "name": "python",
   "nbconvert_exporter": "python",
   "pygments_lexer": "ipython3",
   "version": "3.12.3"
  }
 },
 "nbformat": 4,
 "nbformat_minor": 5
}
