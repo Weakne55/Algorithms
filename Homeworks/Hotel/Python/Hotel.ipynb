{
 "cells": [
  {
   "cell_type": "markdown",
   "id": "8ef9edc4",
   "metadata": {},
   "source": [
    "Сложность O(NlogN) - сортировка, O(N) - проход по элементам массива из дат. Итого O(N(logN + 1), т.е. O(NlogN)"
   ]
  },
  {
   "cell_type": "code",
   "execution_count": 39,
   "id": "0124c532",
   "metadata": {},
   "outputs": [],
   "source": [
    "from datetime import date\n",
    "import ast\n",
    "\n",
    "def maxguest(dates: list) -> date:\n",
    "    stack = []\n",
    "    brackets = []\n",
    "    for interval in dates:\n",
    "        brackets.append((date.fromisoformat(interval[0]),'('))\n",
    "        brackets.append((date.fromisoformat(interval[1]),')'))\n",
    "\n",
    "            \n",
    "    sorted_dates = sorted(brackets, key=lambda x: x[0])\n",
    "    \n",
    "    maxlen = 0\n",
    "    stack_len = 0\n",
    "    \n",
    "    for bra in sorted_dates:\n",
    "        if stack:\n",
    "            if stack[-1] == '(' and bra[1] == ')':\n",
    "                if len(stack) > maxlen:\n",
    "                    maxlen = len(stack)\n",
    "                stack.pop()\n",
    "            else:\n",
    "                stack.append(bra[1])\n",
    "                \n",
    "        else:\n",
    "            stack.append(bra[1])\n",
    "            \n",
    "    if len(stack) != 0:\n",
    "        print(\"Someone is not leaving the hotel\")\n",
    "    else:                 \n",
    "        print(maxlen)\n",
    "    "
   ]
  },
  {
   "cell_type": "code",
   "execution_count": 41,
   "id": "cf9cbad0",
   "metadata": {},
   "outputs": [
    {
     "name": "stdout",
     "output_type": "stream",
     "text": [
      "[(\"2024-09-15\", \"2024-09-15\"), (\"2024-09-14\", \"2024-09-21\")]\n",
      "2\n"
     ]
    }
   ],
   "source": [
    "maxguest(ast.literal_eval(input()))\n",
    "# [(\"2024-09-15\", \"2024-09-15\"), (\"2024-09-14\", \"2024-09-21\")]"
   ]
  }
 ],
 "metadata": {
  "kernelspec": {
   "display_name": "Python 3 (ipykernel)",
   "language": "python",
   "name": "python3"
  },
  "language_info": {
   "codemirror_mode": {
    "name": "ipython",
    "version": 3
   },
   "file_extension": ".py",
   "mimetype": "text/x-python",
   "name": "python",
   "nbconvert_exporter": "python",
   "pygments_lexer": "ipython3",
   "version": "3.12.3"
  }
 },
 "nbformat": 4,
 "nbformat_minor": 5
}
