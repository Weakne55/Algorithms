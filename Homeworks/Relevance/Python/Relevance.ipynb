{
 "cells": [
  {
   "cell_type": "code",
   "execution_count": 23,
   "id": "c759dc0a",
   "metadata": {},
   "outputs": [
    {
     "name": "stdout",
     "output_type": "stream",
     "text": [
      "2\n",
      "1 100\n"
     ]
    }
   ],
   "source": [
    "import sys\n",
    "import numpy as np\n",
    "\n",
    "n = int(input()) # num of params\n",
    "a = list(map(int,input().split())) # list of params\n",
    "\n",
    "if len(a) != n:\n",
    "    sys.exit(0)\n"
   ]
  },
  {
   "cell_type": "markdown",
   "id": "ef6019a9",
   "metadata": {},
   "source": [
    "Пареллельно с сохранением объектов будем создавать индекс в котором будем хранить значение релевантности и (0-based) позицию объекта.\n",
    "\n",
    "Здесь говорить о сложности нельзя, т.к. мы только получаем данные"
   ]
  },
  {
   "cell_type": "code",
   "execution_count": 25,
   "id": "33018e03",
   "metadata": {},
   "outputs": [
    {
     "name": "stdout",
     "output_type": "stream",
     "text": [
      "10\n",
      "1 2\n",
      "2 1\n",
      "3 1\n",
      "4 1\n",
      "5 1\n",
      "6 1\n",
      "7 1\n",
      "8 1\n",
      "9 1\n",
      "10 1\n"
     ]
    }
   ],
   "source": [
    "d = int(input()) # num of objects\n",
    "objects = []\n",
    "index = []\n",
    "for i in range(d):\n",
    "    tmp = list(map(int,input().split())) # features of objects\n",
    "    if len(tmp) != n:\n",
    "        sys.exit(0)\n",
    "        \n",
    "    relevance = sum(map(lambda x,y: x*y,tmp,a))\n",
    "    \n",
    "    objects.append(tmp) # add list of features \n",
    "    \n",
    "    index.append((relevance,i)) # add new meta-information in index"
   ]
  },
  {
   "cell_type": "markdown",
   "id": "df90510f",
   "metadata": {},
   "source": [
    "Часть с командами.\n",
    "\n",
    "У меня стоит python 3.12, он в отличии от версий python 2.3-3.10 использует не Timsort - O(*NlogN*) внутри sorted() и list.sort(), а алгоритм [Powersort](https://www.wild-inter.net/posts/powersort-in-python-3.11) O(*NlogN*). [Здесь](https://speakerdeck.com/sebawild/quicksort-timsort-powersort) объясняются различия"
   ]
  },
  {
   "cell_type": "markdown",
   "id": "c98ad244",
   "metadata": {},
   "source": [
    "Для команды 1 у нас сложность O(NlogN) которая зависит от Powersort и также мы получаем доступ к k объектам массива по индексам, по идее это занимает O(k), т.е. это всё занимает O(dlogd + k) (Здесь d это кол-во объектов).\n",
    "\n",
    "Для команды 2 сложность доступа к элементу матрицы - O(1), так же как и изменение её элемента. Пересчет значения релевантности занимает O(n), где n - кол-во параметров\n",
    "\n",
    "Итого для q=a+b наша сложность должна быть O(ad*logd+ak+bn)<br>\n",
    "Лучший случай a=0 -> O(qn), т.е. O(N)<br>\n",
    "Худший случай b=0 -> O(q(dlogd+k)), т.е. O(NlogN)<br>\n",
    "\n",
    "Оптимизировать можно перестав пересчитывать индекс если нам нужно его вывести. Т.е перенеся обновление индекса в команду 2."
   ]
  },
  {
   "cell_type": "code",
   "execution_count": 26,
   "id": "084ba76c",
   "metadata": {},
   "outputs": [
    {
     "name": "stdout",
     "output_type": "stream",
     "text": [
      "4\n",
      "1 2\n",
      "1 10\n",
      "1 10\n",
      "1 10 9 8 7 6 5 4 3 2\n",
      "2 4 1 1000\n",
      "1 10\n",
      "4 1 10 9 8 7 6 5 3 2\n"
     ]
    }
   ],
   "source": [
    "q = int(input()) # num of queries\n",
    "for i in range(q):\n",
    "    query = list(map(int,input().split()))\n",
    "    \n",
    "    if len(query) == 2 and query[0] == 1: # if command 1 \n",
    "        krel = sorted(index, key=lambda x: x[0],reverse=True) # then get sorted by relevance index\n",
    "        print(*[el[1]+1 for el in krel[:query[1]]]) # and get indices of best k-relevance objects\n",
    "        \n",
    "    if len(query) == 4 and query[0] == 2: # if command 2 \n",
    "        objects[query[1]-1][query[2]-1] = query[3] # objects update \n",
    "        index[query[1]-1] = (sum(map(lambda x,y: x*y,objects[query[1]-1],a)),query[1]-1) # update relevance for i-object\n"
   ]
  }
 ],
 "metadata": {
  "kernelspec": {
   "display_name": "Python 3 (ipykernel)",
   "language": "python",
   "name": "python3"
  },
  "language_info": {
   "codemirror_mode": {
    "name": "ipython",
    "version": 3
   },
   "file_extension": ".py",
   "mimetype": "text/x-python",
   "name": "python",
   "nbconvert_exporter": "python",
   "pygments_lexer": "ipython3",
   "version": "3.12.3"
  }
 },
 "nbformat": 4,
 "nbformat_minor": 5
}
