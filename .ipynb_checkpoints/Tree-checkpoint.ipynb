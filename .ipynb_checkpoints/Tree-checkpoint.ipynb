{
 "cells": [
  {
   "cell_type": "code",
   "execution_count": 41,
   "id": "12ea8ac9",
   "metadata": {
    "scrolled": true
   },
   "outputs": [],
   "source": [
    "class Node():\n",
    "    def __init__(self,data):\n",
    "        self.data = data\n",
    "        self.left = None\n",
    "        self.right = None\n",
    "\n",
    "        \n",
    "class BinaryTree():\n",
    "    def __init__(self):\n",
    "        self.root = None\n",
    "        \n",
    "    def add(self, data):\n",
    "        new_node = Node(data)\n",
    "        if self.root is None:\n",
    "            self.root = new_node\n",
    "        else:\n",
    "            cur_node = self.root\n",
    "            added = False\n",
    "            while not added:\n",
    "                if new_node.data > cur_node.data:\n",
    "                    if cur_node.right is None:\n",
    "                        cur_node.right = new_node\n",
    "                        added = True\n",
    "                    else:\n",
    "                        cur_node = cur_node.right\n",
    "                else:\n",
    "                    if cur_node.left is None:\n",
    "                        cur_node.left = new_node\n",
    "                        added = True\n",
    "                    else:\n",
    "                        cur_node = cur_node.left\n",
    "                   \n",
    "    def print__(self, node):\n",
    "        if node is not None:\n",
    "            print(node.data)\n",
    "            self.print__(node.left)\n",
    "            self.print__(node.right)\n",
    "        return\n",
    "    \n",
    "    \n",
    "    def print_bogdan(self):\n",
    "        if self.root is None:\n",
    "            print(\"Tree is empty\")\n",
    "        stack = [self.root]\n",
    "        tmp = []\n",
    "        cur_node = self.root\n",
    "        while stack is not None:\n",
    "            for el in stack:\n",
    "                print(el.data)\n",
    "                stack.remove(el)\n",
    "                tmp.append(el.right)\n",
    "                tmp.append(el.left)\n",
    "            stack = tmp.copy()\n",
    "            tmp = []\n",
    "                    \n",
    "    def print(self):\n",
    "        if self.root is not None:\n",
    "            self.print__(self.root)\n",
    "    \n",
    "    def search__(self,node,data,road):\n",
    "        if node is not None:\n",
    "            if node.data == data:\n",
    "                return road\n",
    "            elif node.data < data:\n",
    "                road.append('right')\n",
    "                return self.search__(node.right,data,road)\n",
    "            elif node.data > data:\n",
    "                road.append('left')\n",
    "                return self.search__(node.left,data,road)\n",
    "        return road\n",
    "            \n",
    "    def search(self,data):\n",
    "        road = []\n",
    "        return self.search__(self.root,data,[])"
   ]
  },
  {
   "cell_type": "code",
   "execution_count": 42,
   "id": "001a263b",
   "metadata": {},
   "outputs": [],
   "source": [
    "tree = BinaryTree()"
   ]
  },
  {
   "cell_type": "code",
   "execution_count": 43,
   "id": "e51ffc4c",
   "metadata": {},
   "outputs": [],
   "source": [
    "tree.add(10)\n",
    "tree.add(5)\n",
    "tree.add(6)"
   ]
  },
  {
   "cell_type": "code",
   "execution_count": 44,
   "id": "bb698aa3",
   "metadata": {},
   "outputs": [
    {
     "name": "stdout",
     "output_type": "stream",
     "text": [
      "10\n",
      "5\n",
      "6\n"
     ]
    }
   ],
   "source": [
    "tree.print()"
   ]
  },
  {
   "cell_type": "code",
   "execution_count": 45,
   "id": "1b58041d",
   "metadata": {},
   "outputs": [],
   "source": [
    "tree.add(8)\n",
    "tree.add(13)\n",
    "tree.add(11)\n",
    "tree.add(16)"
   ]
  },
  {
   "cell_type": "code",
   "execution_count": 46,
   "id": "25dda8b1",
   "metadata": {},
   "outputs": [
    {
     "name": "stdout",
     "output_type": "stream",
     "text": [
      "10\n",
      "13\n",
      "16\n"
     ]
    },
    {
     "ename": "AttributeError",
     "evalue": "'NoneType' object has no attribute 'data'",
     "output_type": "error",
     "traceback": [
      "\u001b[0;31m---------------------------------------------------------------------------\u001b[0m",
      "\u001b[0;31mAttributeError\u001b[0m                            Traceback (most recent call last)",
      "Cell \u001b[0;32mIn[46], line 1\u001b[0m\n\u001b[0;32m----> 1\u001b[0m \u001b[43mtree\u001b[49m\u001b[38;5;241;43m.\u001b[39;49m\u001b[43mprint_bogdan\u001b[49m\u001b[43m(\u001b[49m\u001b[43m)\u001b[49m\n",
      "Cell \u001b[0;32mIn[41], line 49\u001b[0m, in \u001b[0;36mBinaryTree.print_bogdan\u001b[0;34m(self)\u001b[0m\n\u001b[1;32m     47\u001b[0m \u001b[38;5;28;01mwhile\u001b[39;00m stack \u001b[38;5;129;01mis\u001b[39;00m \u001b[38;5;129;01mnot\u001b[39;00m \u001b[38;5;28;01mNone\u001b[39;00m:\n\u001b[1;32m     48\u001b[0m     \u001b[38;5;28;01mfor\u001b[39;00m el \u001b[38;5;129;01min\u001b[39;00m stack:\n\u001b[0;32m---> 49\u001b[0m         \u001b[38;5;28mprint\u001b[39m(\u001b[43mel\u001b[49m\u001b[38;5;241;43m.\u001b[39;49m\u001b[43mdata\u001b[49m)\n\u001b[1;32m     50\u001b[0m         stack\u001b[38;5;241m.\u001b[39mremove(el)\n\u001b[1;32m     51\u001b[0m         tmp\u001b[38;5;241m.\u001b[39mappend(el\u001b[38;5;241m.\u001b[39mright)\n",
      "\u001b[0;31mAttributeError\u001b[0m: 'NoneType' object has no attribute 'data'"
     ]
    }
   ],
   "source": [
    "tree.print_bogdan()"
   ]
  }
 ],
 "metadata": {
  "kernelspec": {
   "display_name": "Python 3 (ipykernel)",
   "language": "python",
   "name": "python3"
  },
  "language_info": {
   "codemirror_mode": {
    "name": "ipython",
    "version": 3
   },
   "file_extension": ".py",
   "mimetype": "text/x-python",
   "name": "python",
   "nbconvert_exporter": "python",
   "pygments_lexer": "ipython3",
   "version": "3.12.3"
  }
 },
 "nbformat": 4,
 "nbformat_minor": 5
}
