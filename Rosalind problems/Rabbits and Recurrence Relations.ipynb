{
 "cells": [
  {
   "cell_type": "code",
   "execution_count": 13,
   "id": "f2e8ea8b",
   "metadata": {},
   "outputs": [
    {
     "name": "stdout",
     "output_type": "stream",
     "text": [
      "22906492245\n"
     ]
    }
   ],
   "source": [
    "# with open('data.txt') as file:\n",
    "#     lines = file.readlines()\n",
    "#     data = lines[-1]\n",
    "\n",
    "n = 36\n",
    "k = 2\n",
    "rabbits = [0]*n\n",
    "rabbits[0] = 1\n",
    "rabbits[1] = 1\n",
    "for i in range(2,n):\n",
    "    rabbits[i] = rabbits[i-1] + k*rabbits[i-2]\n",
    "print(rabbits[-1])\n",
    "\n"
   ]
  }
 ],
 "metadata": {
  "kernelspec": {
   "display_name": "Python 3 (ipykernel)",
   "language": "python",
   "name": "python3"
  },
  "language_info": {
   "codemirror_mode": {
    "name": "ipython",
    "version": 3
   },
   "file_extension": ".py",
   "mimetype": "text/x-python",
   "name": "python",
   "nbconvert_exporter": "python",
   "pygments_lexer": "ipython3",
   "version": "3.9.6"
  }
 },
 "nbformat": 4,
 "nbformat_minor": 5
}
