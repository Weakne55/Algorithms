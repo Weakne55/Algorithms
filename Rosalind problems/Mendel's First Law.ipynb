{
 "cells": [
  {
   "cell_type": "code",
   "execution_count": 16,
   "id": "4e9c993a",
   "metadata": {},
   "outputs": [
    {
     "name": "stdout",
     "output_type": "stream",
     "text": [
      "0.83333\n"
     ]
    }
   ],
   "source": [
    "m,n,k = 1,1,1\n",
    "\n",
    "s = m + n + k\n",
    "first = (m/s)*(m-1)/(s-1)/4\n",
    "second = (m/s)*n/(s-1)\n",
    "third = (n/s)*(n-1)/(s-1)\n",
    "total = 1 -  first - second - third\n",
    "print(round(total,5))"
   ]
  }
 ],
 "metadata": {
  "kernelspec": {
   "display_name": "Python 3 (ipykernel)",
   "language": "python",
   "name": "python3"
  },
  "language_info": {
   "codemirror_mode": {
    "name": "ipython",
    "version": 3
   },
   "file_extension": ".py",
   "mimetype": "text/x-python",
   "name": "python",
   "nbconvert_exporter": "python",
   "pygments_lexer": "ipython3",
   "version": "3.9.6"
  }
 },
 "nbformat": 4,
 "nbformat_minor": 5
}
