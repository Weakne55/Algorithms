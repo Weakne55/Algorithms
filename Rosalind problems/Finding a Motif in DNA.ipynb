{
 "cells": [
  {
   "cell_type": "code",
   "execution_count": 3,
   "id": "cff6dfbf",
   "metadata": {},
   "outputs": [
    {
     "name": "stdout",
     "output_type": "stream",
     "text": [
      "4 61 93 123 139 146 212 246 253 287 331 353 360 377 384 417 444 451 468 589 632 676 683 716 723 730 737 752 768 808 815 867 925 932 947 970\n"
     ]
    }
   ],
   "source": [
    "s = 'GATCAATGATCAATGATGTTTGGAAGGCGCCCAATGATCGCTCAATGATAAAAGACCAAACAATGATCAATGATTCAATGATTGCAATGATCCAATGATCAATGATTCAATGATGAACCTACCAATGATCAATGATTCCAATGATCAATGATCAATGATTTCAATGATTAAGACAATGATGGTCCACAATGATGCAATGATTCCAATGATTCAATGATCAATGATTGCAATGATAAGCAATGATTCAATGATCAATGATCAATGATGGTCAATGATGGACGTATGTCAATGATCAATGATGCAATGATGCCAACCCGCCAATGATTGTTTCAATGATCAATGATTGCGAATTCAATGATCAATGATCAATGATGGCCAATGATCAATGATCAATGATCTGTACAATGATAATTGGACAATGATCAATGATTCTGTAAGCTCCACAATGATCAATGATCAATGATATCCAATGATCAATGATCCTGGTCCGTTCAATGATAGGCTTGCAATGATTTACGACAACAATGATTACAATGATCCAATGATTCAATGATATACGGCAATGATGTTATCAATGATGCAATGATTCAATGATCAATGATCCCTCAATGATTACAATGATCCAATGATGCAATGATCAATGATTTGGCAATGATCCTCAATGATGAAATCAGCCAATGATCAATGATCAATGATATCAATGATGACAATGATCCAATGATCAATGATCAATGATCAATGATCAATGATTCAATGATCAATGATTCCAATGATCAATGATTATACCAATGATTCAATGATTCCTCACAATGATCAATGATCAATGATGCTCACCTGTGCAATGATAGACGTCAGTCCAATGATCTCAATGATCAATGATACAATGATGGCTCAATGATACCCAATGATGCCTAGGGAGAGCACCAATGATCAATGATCAATGATGCAATGATCAATGATGCAATGATTCAATGATCAATGAT'\n",
    "substring = 'CAATGATCA'\n",
    "\n",
    "indices = []\n",
    "index = -1  # начинаем поиск с начала строки\n",
    " \n",
    "while True:\n",
    "    # находим следующее вхождение подстроки\n",
    "    index = s.find(substring, index + 1)\n",
    " \n",
    "    # если вхождение не найдено, выходим из цикла\n",
    "    if index == -1:\n",
    "        break\n",
    " \n",
    "    # добавляем индекс в список\n",
    "    indices.append(index+1)\n",
    "print(*indices)"
   ]
  }
 ],
 "metadata": {
  "kernelspec": {
   "display_name": "Python 3 (ipykernel)",
   "language": "python",
   "name": "python3"
  },
  "language_info": {
   "codemirror_mode": {
    "name": "ipython",
    "version": 3
   },
   "file_extension": ".py",
   "mimetype": "text/x-python",
   "name": "python",
   "nbconvert_exporter": "python",
   "pygments_lexer": "ipython3",
   "version": "3.9.6"
  }
 },
 "nbformat": 4,
 "nbformat_minor": 5
}
