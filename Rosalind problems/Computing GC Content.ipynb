{
 "cells": [
  {
   "cell_type": "code",
   "execution_count": 51,
   "id": "07f0c734",
   "metadata": {},
   "outputs": [
    {
     "name": "stdout",
     "output_type": "stream",
     "text": [
      "Rosalind_5305\n",
      "52.365237\n"
     ]
    }
   ],
   "source": [
    "with open('rosalind_gc.txt') as file:\n",
    "    lines = file.readlines()\n",
    "\n",
    "reads = dict()\n",
    "for i in range(0,len(lines)-2,2):\n",
    "    reads[lines[i][1:-1]] = lines[i+1][:-1]\n",
    "    \n",
    "reads[lines[len(lines)-2][1:-1]] = lines[len(lines)-1]\n",
    "\n",
    "def gc(dna:str)->int:\n",
    "    num = 0\n",
    "    for b in dna:\n",
    "        if b == 'G' or b == 'C': num +=1\n",
    "    return num/len(dna) * 100\n",
    "\n",
    "score = 0\n",
    "answer = ''\n",
    "\n",
    "for key,val in reads.items():\n",
    "    if gc(val) > score: \n",
    "        score = gc(val)\n",
    "        answer = key\n",
    "print(answer, round(score,6),sep='\\n')"
   ]
  }
 ],
 "metadata": {
  "kernelspec": {
   "display_name": "Python 3 (ipykernel)",
   "language": "python",
   "name": "python3"
  },
  "language_info": {
   "codemirror_mode": {
    "name": "ipython",
    "version": 3
   },
   "file_extension": ".py",
   "mimetype": "text/x-python",
   "name": "python",
   "nbconvert_exporter": "python",
   "pygments_lexer": "ipython3",
   "version": "3.9.6"
  }
 },
 "nbformat": 4,
 "nbformat_minor": 5
}
