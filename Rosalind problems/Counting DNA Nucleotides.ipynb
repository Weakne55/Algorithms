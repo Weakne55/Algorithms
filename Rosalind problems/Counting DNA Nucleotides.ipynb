{
 "cells": [
  {
   "cell_type": "code",
   "execution_count": 28,
   "id": "632d7852",
   "metadata": {},
   "outputs": [
    {
     "name": "stdout",
     "output_type": "stream",
     "text": [
      "223 227 231 193\n"
     ]
    }
   ],
   "source": [
    "with open('rosalind_dna.txt') as file:\n",
    "    lines = file.readlines()\n",
    "    dna = lines[-1]\n",
    "    words = {'A':0,'C':0,'G':0,'T':0}\n",
    "    for l in dna:\n",
    "        if l in words:\n",
    "            words[l] +=1\n",
    "    print(*words.values())"
   ]
  }
 ],
 "metadata": {
  "kernelspec": {
   "display_name": "Python 3 (ipykernel)",
   "language": "python",
   "name": "python3"
  },
  "language_info": {
   "codemirror_mode": {
    "name": "ipython",
    "version": 3
   },
   "file_extension": ".py",
   "mimetype": "text/x-python",
   "name": "python",
   "nbconvert_exporter": "python",
   "pygments_lexer": "ipython3",
   "version": "3.9.6"
  }
 },
 "nbformat": 4,
 "nbformat_minor": 5
}
