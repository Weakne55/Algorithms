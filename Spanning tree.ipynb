{
 "cells": [
  {
   "cell_type": "code",
   "execution_count": null,
   "id": "6f92a799",
   "metadata": {},
   "outputs": [],
   "source": [
    "from collections import deque\n",
    "\n",
    "def read_graph(E):  # читаем граф\n",
    "    G = {}\n",
    "    vertices = set()\n",
    "    for _ in range(E):\n",
    "        v1, v2, w = map(int, input().split())\n",
    "        if v1 not in G:\n",
    "            G[v1] = {v2: w}\n",
    "            vertices.add(v1)\n",
    "        if v2 not in G:\n",
    "            G[v2] = {v1: w}\n",
    "            vertices.add(v2)\n",
    "        G[v1][v2] = G[v2][v1] = w\n",
    "    return G, vertices\n",
    "\n",
    "\n",
    "def dejkstra(G: dict, start: int):\n",
    "    dist = {vertex: float('inf') for vertex in G.keys()}\n",
    "    dist[start] = 0\n",
    "    q = deque()\n",
    "    q.append(s)\n",
    "    while q:\n",
    "        v = q.popleft()\n",
    "        for to in G[v]:\n",
    "            if dist[v] + G[v][to] < dist[to]:\n",
    "                dist[to] = dist[v] + G[v][to]\n",
    "                q.append(to)\n",
    "    return dist"
   ]
  },
  {
   "cell_type": "code",
   "execution_count": 16,
   "id": "72620ade",
   "metadata": {},
   "outputs": [
    {
     "name": "stdout",
     "output_type": "stream",
     "text": [
      "[0, 1, 2, 3, 4]\n"
     ]
    }
   ],
   "source": [
    "graph = {}\n",
    "graph[0] = [(1,-1),(3,-3)]\n",
    "graph[1] = [(0,-1),(2,1)]\n",
    "graph[2] = [(1,1), (4,-4)]\n",
    "graph[3] = [(0,-3), (4,-1)]\n",
    "graph[4] = [ (2,-4), (3,-1)]\n",
    "print([*graph.keys()])"
   ]
  },
  {
   "cell_type": "code",
   "execution_count": null,
   "id": "51f1fcc2",
   "metadata": {},
   "outputs": [],
   "source": [
    "def prim(graph: dict, start:int):\n",
    "    start = 0\n",
    "    verticies = [*graph.keys()]\n",
    "    path = []\n",
    "    for v in graph[start] "
   ]
  },
  {
   "cell_type": "markdown",
   "id": "b730221b",
   "metadata": {},
   "source": [
    "Вета написала код"
   ]
  }
 ],
 "metadata": {
  "kernelspec": {
   "display_name": "Python 3 (ipykernel)",
   "language": "python",
   "name": "python3"
  },
  "language_info": {
   "codemirror_mode": {
    "name": "ipython",
    "version": 3
   },
   "file_extension": ".py",
   "mimetype": "text/x-python",
   "name": "python",
   "nbconvert_exporter": "python",
   "pygments_lexer": "ipython3",
   "version": "3.12.3"
  }
 },
 "nbformat": 4,
 "nbformat_minor": 5
}
